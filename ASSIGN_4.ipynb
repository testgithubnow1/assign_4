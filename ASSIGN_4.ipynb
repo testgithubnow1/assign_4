{
  "nbformat": 4,
  "nbformat_minor": 0,
  "metadata": {
    "colab": {
      "name": "ASSIGN_4.ipynb",
      "provenance": [],
      "collapsed_sections": []
    },
    "kernelspec": {
      "name": "python3",
      "display_name": "Python 3"
    }
  },
  "cells": [
    {
      "cell_type": "code",
      "metadata": {
        "id": "BjSeKZGsIv1C"
      },
      "source": [
        "# Answer 1\n",
        "\n",
        "import pandas as pd  # import pandas\n",
        "print(pd.__version__)  # version check"
      ],
      "execution_count": null,
      "outputs": []
    },
    {
      "cell_type": "code",
      "metadata": {
        "id": "md0ThT8rJbCM",
        "outputId": "118a0153-025a-449f-8b36-db25f3103c2a",
        "colab": {
          "base_uri": "https://localhost:8080/"
        }
      },
      "source": [
        "# Answer 2\n",
        "\n",
        "import numpy as np\n",
        "sample = np.array(['r','o','h','i','t'])\n",
        "print(pd.Series(sample))\n"
      ],
      "execution_count": null,
      "outputs": [
        {
          "output_type": "stream",
          "text": [
            "0    r\n",
            "1    o\n",
            "2    h\n",
            "3    i\n",
            "4    t\n",
            "dtype: object\n"
          ],
          "name": "stdout"
        }
      ]
    },
    {
      "cell_type": "code",
      "metadata": {
        "id": "MB17R_lVJc5h"
      },
      "source": [
        ""
      ],
      "execution_count": null,
      "outputs": []
    }
  ]
}